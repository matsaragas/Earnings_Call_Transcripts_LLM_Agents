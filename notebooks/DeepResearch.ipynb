{
 "cells": [
  {
   "cell_type": "markdown",
   "id": "10eebe33",
   "metadata": {},
   "source": [
    "### Smolagents for DeepResearch - Huggingface"
   ]
  },
  {
   "cell_type": "markdown",
   "id": "b7325a40",
   "metadata": {},
   "source": [
    "Integrating LLMs into agentic framework give them real superpowers. From recent example comparing the performance of a few frontier LLMs with and withut an agentic framework (for example smolagents library) - using agentic framework bumps the performance by up to 60 points.\n",
    "\n",
    "\n",
    "\n",
    "![Logo](images/agentic_scores.png)"
   ]
  },
  {
   "cell_type": "markdown",
   "id": "02a8ce40",
   "metadata": {},
   "source": [
    "## The GAIA Benchmark"
   ]
  },
  {
   "cell_type": "markdown",
   "id": "a9fbd09c",
   "metadata": {},
   "source": [
    "GAIA is arguably the most comprehensive benchmark for agents. Its questions are very difficult and hit on many challenges of LLM-based systems. Here is an example of a hard question:\n",
    "\n",
    "`Which of the fruits shown in the 2008 painting \"Embroidery from Uzbekistan\" were served as part of the October 1949 breakfast menu for the ocean liner that was later used as a floating prop for the film \"The Last Voyage\"? Give the items as a comma-separated list, ordering them in clockwise order based on their arrangement in the painting starting from the 12 o'clock position. Use the plural form of each fruit.`\n",
    "\n",
    "\n",
    "You can see this question involves several challenges:\n",
    "\n",
    "* Answering in a constrained format,\n",
    "* Using multimodal capabilities (to extract the fruits from the image),\n",
    "* Gathering several pieces of information, some depending on others:\n",
    "* Identifying the fruits on the picture\n",
    "* Finding which ocean liner was used as a floating prop for “The Last Voyage”\n",
    "* Finding the October 1949 breakfast menu for the above ocean liner\n",
    "* Chaining together a problem-solving trajectory in the correct order.\n",
    "* Solving this requires both high-level planning abilities and rigorous execution, which are two areas where LLMs struggle when used alone.\n",
    "\n",
    "\n",
    "So it’s an excellent test set for agent systems!\n",
    "\n",
    "On GAIA’s public leaderboard, GPT-4 does not even reach 7% on the validation set when used without any agentic setup. On the other side of the spectrum, with Deep Research, OpenAI reached 67.36% score on the validation set, so an order of magnitude better! (Though we don’t know how they would actually fare on the private test set.)"
   ]
  },
  {
   "cell_type": "markdown",
   "id": "b5ad51ea",
   "metadata": {},
   "source": [
    "### Building an open Deep Research"
   ]
  },
  {
   "cell_type": "markdown",
   "id": "ded2d762",
   "metadata": {},
   "source": [
    "#### Using a CodeAgent"
   ]
  },
  {
   "cell_type": "markdown",
   "id": "3fbfae8e",
   "metadata": {},
   "source": [
    "The first improvement over traditional AI agent systems is to use `code agent`. Letting an agent express its actions in code has several advantages, as code is specifically designed to express complex sequences of actions.\n",
    "\n",
    "![Logo](images/codeagent.png)"
   ]
  },
  {
   "cell_type": "markdown",
   "id": "3c36cd23",
   "metadata": {},
   "source": [
    "Advantages of using code:\n",
    "\n",
    "* Code qctions are much more concise than JSON\n",
    "\n",
    "  1. If we want to run 4 parallel streams of 5 concecutive actions, in JSON, we need to generate 20JSON blobs, each in separate step; in Code it's only 1 step\n",
    "  2. On average, Code actions require 30% fewer steps than JSON\n",
    "  3. Code enables us to re-use from common tool libraries\n",
    "  4. Better performance in benchmarks: a) more intuitive way to express actions b) extensive exposure of LLM to code in training.\n",
    "  "
   ]
  },
  {
   "cell_type": "markdown",
   "id": "88500ace",
   "metadata": {},
   "source": [
    "### Using the right tools "
   ]
  },
  {
   "cell_type": "markdown",
   "id": "ac0dcb84",
   "metadata": {},
   "source": [
    "1. A web browser: We can use a fully fledged web browser interactions like Operator. Operator⁠ is an agent developed by OpenaI that can go to the web to perform tasks for you. Open source Deep-Research uses a simple text-based web browser. \n",
    "\n",
    "2. A simple text inspector, to be able to read a bunch of text file format.\n",
    "\n",
    "The tools were taken from the excellent [Magentic-One](https://www.microsoft.com/en-us/research/articles/magentic-one-a-generalist-multi-agent-system-for-solving-complex-tasks/) agent by Microsoft Research, \n",
    "\n",
    "\n"
   ]
  },
  {
   "cell_type": "code",
   "execution_count": null,
   "id": "2d32e7a4",
   "metadata": {},
   "outputs": [],
   "source": []
  }
 ],
 "metadata": {
  "kernelspec": {
   "display_name": "Python 3",
   "language": "python",
   "name": "python3"
  },
  "language_info": {
   "codemirror_mode": {
    "name": "ipython",
    "version": 3
   },
   "file_extension": ".py",
   "mimetype": "text/x-python",
   "name": "python",
   "nbconvert_exporter": "python",
   "pygments_lexer": "ipython3",
   "version": "3.8.8"
  }
 },
 "nbformat": 4,
 "nbformat_minor": 5
}
