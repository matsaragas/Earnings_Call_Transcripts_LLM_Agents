{
 "cells": [
  {
   "cell_type": "markdown",
   "id": "dacaa137-6bf4-43ff-a003-dcf4b5e764c7",
   "metadata": {},
   "source": [
    "## AutoGen"
   ]
  },
  {
   "cell_type": "markdown",
   "id": "e1e1eae5-208d-4431-a86f-f6c333e78889",
   "metadata": {},
   "source": [
    "A framework for building AI agents and applications\n",
    "\n",
    "1. Magentic - One CLI: A console-based multi-agent assistant for web and file based tasks built on AgentChat. It is a generalist multi-agent system for solving open-ended web and file-based tasks across a variety of domains.\n",
    "\n",
    "   The Magentic-One orchestrator `MagenticOneGroupChat` is now simply an AgentChat team, supporting all standard AgentChat agents and features. Likewise, Magentic-One's `MultimodalWebSurfer`, `FileSurfer`, and `MagenticOneCoderAgent` agents are now broadly available as AgentChat agents, to be used in any AgentChat workflows.\n",
    "\n",
    "\n",
    "   Magentic-One can perform the following tasks: The attached image contains a Python Script. Run the Python code against an array of strings listed below. Output of the script is a URL containing a C++ source code, compile, run and return the sum of the third and the fifth integer.  "
   ]
  },
  {
   "cell_type": "code",
   "execution_count": null,
   "id": "3531564f-c737-416d-b729-90bc7b092841",
   "metadata": {},
   "outputs": [],
   "source": []
  }
 ],
 "metadata": {
  "kernelspec": {
   "display_name": "venv",
   "language": "python",
   "name": "venv"
  },
  "language_info": {
   "codemirror_mode": {
    "name": "ipython",
    "version": 3
   },
   "file_extension": ".py",
   "mimetype": "text/x-python",
   "name": "python",
   "nbconvert_exporter": "python",
   "pygments_lexer": "ipython3",
   "version": "3.11.8"
  }
 },
 "nbformat": 4,
 "nbformat_minor": 5
}
