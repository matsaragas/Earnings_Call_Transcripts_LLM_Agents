{
 "cells": [
  {
   "cell_type": "markdown",
   "id": "dacaa137-6bf4-43ff-a003-dcf4b5e764c7",
   "metadata": {},
   "source": [
    "## AutoGen"
   ]
  },
  {
   "cell_type": "markdown",
   "id": "e1e1eae5-208d-4431-a86f-f6c333e78889",
   "metadata": {},
   "source": [
    "A framework for building AI agents and applications\n",
    "\n",
    "1. Magentic - One CLI: A console-based multi-agent assistant for web and file based tasks built on AgentChat. It is a generalist multi-agent system for solving open-ended web and file-based tasks across a variety of domains.\n",
    "\n",
    "   The Magentic-One orchestrator `MagenticOneGroupChat` is now simply an AgentChat team, supporting all standard AgentChat agents and features. Likewise, Magentic-One's `MultimodalWebSurfer`, `FileSurfer`, and `MagenticOneCoderAgent` agents are now broadly available as AgentChat agents, to be used in any AgentChat workflows.\n",
    "\n",
    "\n",
    "   Magentic-One can perform the following tasks: The attached image contains a Python Script. Run the Python code against an array of strings listed below. Output of the script is a URL containing a C++ source code, compile, run and return the sum of the third and the fifth integer.  "
   ]
  },
  {
   "cell_type": "code",
   "execution_count": 3,
   "id": "44615121-07c3-4cda-bdad-3125d285565d",
   "metadata": {},
   "outputs": [
    {
     "name": "stderr",
     "output_type": "stream",
     "text": [
      "Python(17409) MallocStackLogging: can't turn off malloc stack logging because it was not enabled.\n"
     ]
    },
    {
     "name": "stdout",
     "output_type": "stream",
     "text": [
      "Collecting yfinance\n",
      "  Downloading yfinance-0.2.54-py2.py3-none-any.whl.metadata (5.8 kB)\n",
      "Collecting pandas>=1.3.0 (from yfinance)\n",
      "  Using cached pandas-2.2.3-cp311-cp311-macosx_10_9_x86_64.whl.metadata (89 kB)\n",
      "Requirement already satisfied: numpy>=1.16.5 in /Users/petros-pavlosypsilantis/Documents/Projects/LLM_Agents/Earnings_Call_Transcripts_LLM_Agents/venv/lib/python3.11/site-packages (from yfinance) (1.26.4)\n",
      "Requirement already satisfied: requests>=2.31 in /Users/petros-pavlosypsilantis/Documents/Projects/LLM_Agents/Earnings_Call_Transcripts_LLM_Agents/venv/lib/python3.11/site-packages (from yfinance) (2.32.3)\n",
      "Collecting multitasking>=0.0.7 (from yfinance)\n",
      "  Using cached multitasking-0.0.11-py3-none-any.whl.metadata (5.5 kB)\n",
      "Requirement already satisfied: platformdirs>=2.0.0 in /Users/petros-pavlosypsilantis/Documents/Projects/LLM_Agents/Earnings_Call_Transcripts_LLM_Agents/venv/lib/python3.11/site-packages (from yfinance) (4.3.6)\n",
      "Collecting pytz>=2022.5 (from yfinance)\n",
      "  Downloading pytz-2025.1-py2.py3-none-any.whl.metadata (22 kB)\n",
      "Collecting frozendict>=2.3.4 (from yfinance)\n",
      "  Using cached frozendict-2.4.6-py311-none-any.whl.metadata (23 kB)\n",
      "Collecting peewee>=3.16.2 (from yfinance)\n",
      "  Downloading peewee-3.17.9.tar.gz (3.0 MB)\n",
      "\u001b[2K     \u001b[90m━━━━━━━━━━━━━━━━━━━━━━━━━━━━━━━━━━━━━━━━\u001b[0m \u001b[32m3.0/3.0 MB\u001b[0m \u001b[31m393.3 kB/s\u001b[0m eta \u001b[36m0:00:00\u001b[0m00:01\u001b[0m00:01\u001b[0m\n",
      "  Installing build dependencies ... \u001b[done\n",
      "\u001b[?25h  Getting requirements to build wheel ... \u001b[?25ldone\n",
      "\u001b[?25h  Preparing metadata (pyproject.toml) ... \u001b[?25ldone\n",
      "\u001b[?25hRequirement already satisfied: beautifulsoup4>=4.11.1 in /Users/petros-pavlosypsilantis/Documents/Projects/LLM_Agents/Earnings_Call_Transcripts_LLM_Agents/venv/lib/python3.11/site-packages (from yfinance) (4.13.3)\n",
      "Requirement already satisfied: soupsieve>1.2 in /Users/petros-pavlosypsilantis/Documents/Projects/LLM_Agents/Earnings_Call_Transcripts_LLM_Agents/venv/lib/python3.11/site-packages (from beautifulsoup4>=4.11.1->yfinance) (2.6)\n",
      "Requirement already satisfied: typing-extensions>=4.0.0 in /Users/petros-pavlosypsilantis/Documents/Projects/LLM_Agents/Earnings_Call_Transcripts_LLM_Agents/venv/lib/python3.11/site-packages (from beautifulsoup4>=4.11.1->yfinance) (4.12.2)\n",
      "Requirement already satisfied: python-dateutil>=2.8.2 in /Users/petros-pavlosypsilantis/Documents/Projects/LLM_Agents/Earnings_Call_Transcripts_LLM_Agents/venv/lib/python3.11/site-packages (from pandas>=1.3.0->yfinance) (2.9.0.post0)\n",
      "Collecting tzdata>=2022.7 (from pandas>=1.3.0->yfinance)\n",
      "  Downloading tzdata-2025.1-py2.py3-none-any.whl.metadata (1.4 kB)\n",
      "Requirement already satisfied: charset-normalizer<4,>=2 in /Users/petros-pavlosypsilantis/Documents/Projects/LLM_Agents/Earnings_Call_Transcripts_LLM_Agents/venv/lib/python3.11/site-packages (from requests>=2.31->yfinance) (3.4.1)\n",
      "Requirement already satisfied: idna<4,>=2.5 in /Users/petros-pavlosypsilantis/Documents/Projects/LLM_Agents/Earnings_Call_Transcripts_LLM_Agents/venv/lib/python3.11/site-packages (from requests>=2.31->yfinance) (3.10)\n",
      "Requirement already satisfied: urllib3<3,>=1.21.1 in /Users/petros-pavlosypsilantis/Documents/Projects/LLM_Agents/Earnings_Call_Transcripts_LLM_Agents/venv/lib/python3.11/site-packages (from requests>=2.31->yfinance) (2.3.0)\n",
      "Requirement already satisfied: certifi>=2017.4.17 in /Users/petros-pavlosypsilantis/Documents/Projects/LLM_Agents/Earnings_Call_Transcripts_LLM_Agents/venv/lib/python3.11/site-packages (from requests>=2.31->yfinance) (2025.1.31)\n",
      "Requirement already satisfied: six>=1.5 in /Users/petros-pavlosypsilantis/Documents/Projects/LLM_Agents/Earnings_Call_Transcripts_LLM_Agents/venv/lib/python3.11/site-packages (from python-dateutil>=2.8.2->pandas>=1.3.0->yfinance) (1.17.0)\n",
      "Downloading yfinance-0.2.54-py2.py3-none-any.whl (108 kB)\n",
      "\u001b[2K   \u001b[90m━━━━━━━━━━━━━━━━━━━━━━━━━━━━━━━━━━━━━━━\u001b[0m \u001b[32m108.7/108.7 kB\u001b[0m \u001b[31m177.6 kB/s\u001b[0m eta \u001b[36m0:00:00\u001b[0ma \u001b[36m0:00:01\u001b[0m\n",
      "Using cached frozendict-2.4.6-py311-none-any.whl (16 kB)\n",
      "Using cached multitasking-0.0.11-py3-none-any.whl (8.5 kB)\n",
      "Using cached pandas-2.2.3-cp311-cp311-macosx_10_9_x86_64.whl (12.6 MB)\n",
      "Downloading pytz-2025.1-py2.py3-none-any.whl (507 kB)\n",
      "\u001b[2K   \u001b[90m━━━━━━━━━━━━━━━━━━━━━━━━━━━━━━━━━━━━━━━\u001b[0m \u001b[32m507.9/507.9 kB\u001b[0m \u001b[31m212.9 kB/s\u001b[0m eta \u001b[36m0:00:00\u001b[0m00:01\u001b[0m00:01\u001b[0m\n",
      "Downloading tzdata-2025.1-py2.py3-none-any.whl (346 kB)\n",
      "\u001b[2K   \u001b[90m━━━━━━━━━━━━━━━━━━━━━━━━━━━━━━━━━━━━━━━\u001b[0m \u001b[32m346.8/346.8 kB\u001b[0m \u001b[31m290.0 kB/s\u001b[0m eta \u001b[36m0:00:00\u001b[0m00:01\u001b[0m00:01\u001b[0m\n",
      "Building wheels for collected packages: peewee\n",
      "  Building wheel for peewee (pyproject.toml) .done\n",
      "\u001b[?25h  Created wheel for peewee: filename=peewee-3.17.9-cp311-cp311-macosx_10_9_universal2.whl size=417189 sha256=c4d17159a63c40adc44fe2822548dd32a5072a07d033e7ac03998cef9c659754\n",
      "  Stored in directory: /Users/petros-pavlosypsilantis/Library/Caches/pip/wheels/f4/14/e4/50c88c865833085aeb91e2bd40e3a683ff434806386b8ee7bc\n",
      "Successfully built peewee\n",
      "Installing collected packages: pytz, peewee, multitasking, tzdata, frozendict, pandas, yfinance\n",
      "Successfully installed frozendict-2.4.6 multitasking-0.0.11 pandas-2.2.3 peewee-3.17.9 pytz-2025.1 tzdata-2025.1 yfinance-0.2.54\n",
      "\n",
      "\u001b[1m[\u001b[0m\u001b[34;49mnotice\u001b[0m\u001b[1;39;49m]\u001b[0m\u001b[39;49m A new release of pip is available: \u001b[0m\u001b[31;49m24.0\u001b[0m\u001b[39;49m -> \u001b[0m\u001b[32;49m25.0.1\u001b[0m\n",
      "\u001b[1m[\u001b[0m\u001b[34;49mnotice\u001b[0m\u001b[1;39;49m]\u001b[0m\u001b[39;49m To update, run: \u001b[0m\u001b[32;49mpip install --upgrade pip\u001b[0m\n"
     ]
    }
   ],
   "source": [
    "!pip install yfinance"
   ]
  },
  {
   "cell_type": "code",
   "execution_count": 4,
   "id": "3531564f-c737-416d-b729-90bc7b092841",
   "metadata": {},
   "outputs": [
    {
     "name": "stdout",
     "output_type": "stream",
     "text": [
      "                                 Open        High         Low       Close  \\\n",
      "Date                                                                        \n",
      "2012-05-18 00:00:00-04:00   41.889981   44.828756   37.855394   38.084518   \n",
      "2012-05-21 00:00:00-04:00   36.390988   36.520494   32.874422   33.900501   \n",
      "2012-05-22 00:00:00-04:00   32.485906   33.462177   30.822261   30.882032   \n",
      "2012-05-23 00:00:00-04:00   31.250625   32.376325   31.240663   31.878227   \n",
      "2012-05-24 00:00:00-04:00   32.824611   33.083620   31.649101   32.904305   \n",
      "...                               ...         ...         ...         ...   \n",
      "2025-02-14 00:00:00-05:00  726.140015  740.909973  725.619995  736.669983   \n",
      "2025-02-18 00:00:00-05:00  736.000000  737.000000  706.440002  716.369995   \n",
      "2025-02-19 00:00:00-05:00  704.099976  707.000000  695.390015  703.770020   \n",
      "2025-02-20 00:00:00-05:00  697.280029  705.630005  693.640015  694.840027   \n",
      "2025-02-21 00:00:00-05:00  696.580017  703.869995  682.359985  683.549988   \n",
      "\n",
      "                              Volume  Dividends  Stock Splits  \n",
      "Date                                                           \n",
      "2012-05-18 00:00:00-04:00  573576400        0.0           0.0  \n",
      "2012-05-21 00:00:00-04:00  168192700        0.0           0.0  \n",
      "2012-05-22 00:00:00-04:00  101786600        0.0           0.0  \n",
      "2012-05-23 00:00:00-04:00   73600000        0.0           0.0  \n",
      "2012-05-24 00:00:00-04:00   50237200        0.0           0.0  \n",
      "...                              ...        ...           ...  \n",
      "2025-02-14 00:00:00-05:00   16901200        0.0           0.0  \n",
      "2025-02-18 00:00:00-05:00   21938700        0.0           0.0  \n",
      "2025-02-19 00:00:00-05:00   17535500        0.0           0.0  \n",
      "2025-02-20 00:00:00-05:00   12587400        0.0           0.0  \n",
      "2025-02-21 00:00:00-05:00   15612000        0.0           0.0  \n",
      "\n",
      "[3209 rows x 7 columns]\n"
     ]
    }
   ],
   "source": [
    "\n",
    "\n",
    "\n",
    "\n",
    "import yfinance as yahooFinance\n",
    " \n",
    "GetFacebookInformation = yahooFinance.Ticker(\"META\")\n",
    " \n",
    "# Let us  get historical stock prices for Facebook \n",
    "# covering the past few years.\n",
    "# max->maximum number of daily prices available \n",
    "# for Facebook.\n",
    "# Valid options are 1d, 5d, 1mo, 3mo, 6mo, 1y, 2y, \n",
    "# 5y, 10y and ytd.\n",
    "print(GetFacebookInformation.history(period=\"max\"))"
   ]
  },
  {
   "cell_type": "code",
   "execution_count": 5,
   "id": "1eed6d25-13b6-4cb8-80f1-87764d86ae80",
   "metadata": {},
   "outputs": [
    {
     "name": "stdout",
     "output_type": "stream",
     "text": [
      "                                 Open        High         Low       Close  \\\n",
      "Date                                                                        \n",
      "2019-05-31 00:00:00-04:00  179.593967  179.852972  176.485845  176.794662   \n",
      "2019-06-03 00:00:00-04:00  174.334047  174.383859  160.397279  163.525330   \n",
      "2019-06-04 00:00:00-04:00  163.087024  167.639625  160.227935  166.862595   \n",
      "2019-06-05 00:00:00-04:00  166.842668  168.077955  164.003522  167.530045   \n",
      "2019-06-06 00:00:00-04:00  167.659569  169.054235  166.593633  167.689453   \n",
      "...                               ...         ...         ...         ...   \n",
      "2021-01-25 00:00:00-05:00  277.081567  279.034100  270.476792  276.952057   \n",
      "2021-01-26 00:00:00-05:00  277.081560  284.303971  276.752799  280.976654   \n",
      "2021-01-27 00:00:00-05:00  281.454846  282.371359  267.099679  271.104401   \n",
      "2021-01-28 00:00:00-05:00  276.125220  285.698667  263.692731  263.991577   \n",
      "2021-01-29 00:00:00-05:00  264.290432  265.545647  253.880216  257.346954   \n",
      "\n",
      "                             Volume  Dividends  Stock Splits  \n",
      "Date                                                          \n",
      "2019-05-31 00:00:00-04:00  15226500        0.0           0.0  \n",
      "2019-06-03 00:00:00-04:00  56059600        0.0           0.0  \n",
      "2019-06-04 00:00:00-04:00  46044300        0.0           0.0  \n",
      "2019-06-05 00:00:00-04:00  19758300        0.0           0.0  \n",
      "2019-06-06 00:00:00-04:00  12446400        0.0           0.0  \n",
      "...                             ...        ...           ...  \n",
      "2021-01-25 00:00:00-05:00  19087000        0.0           0.0  \n",
      "2021-01-26 00:00:00-05:00  19373600        0.0           0.0  \n",
      "2021-01-27 00:00:00-05:00  35346200        0.0           0.0  \n",
      "2021-01-28 00:00:00-05:00  37758800        0.0           0.0  \n",
      "2021-01-29 00:00:00-05:00  30389500        0.0           0.0  \n",
      "\n",
      "[421 rows x 7 columns]\n"
     ]
    }
   ],
   "source": [
    "import datetime\n",
    " \n",
    "# startDate , as per our convenience we can modify\n",
    "startDate = datetime.datetime(2019, 5, 31)\n",
    " \n",
    "# endDate , as per our convenience we can modify\n",
    "endDate = datetime.datetime(2021, 1, 30)\n",
    "GetFacebookInformation = yahooFinance.Ticker(\"META\")\n",
    " \n",
    "# pass the parameters as the taken dates for start and end\n",
    "print(GetFacebookInformation.history(start=startDate, \n",
    "                                     end=endDate))"
   ]
  },
  {
   "cell_type": "code",
   "execution_count": null,
   "id": "ce75702b-eb50-4668-9625-4534900f93ff",
   "metadata": {},
   "outputs": [],
   "source": []
  }
 ],
 "metadata": {
  "kernelspec": {
   "display_name": "venv",
   "language": "python",
   "name": "venv"
  },
  "language_info": {
   "codemirror_mode": {
    "name": "ipython",
    "version": 3
   },
   "file_extension": ".py",
   "mimetype": "text/x-python",
   "name": "python",
   "nbconvert_exporter": "python",
   "pygments_lexer": "ipython3",
   "version": "3.11.8"
  }
 },
 "nbformat": 4,
 "nbformat_minor": 5
}
