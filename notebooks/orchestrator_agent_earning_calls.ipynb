{
 "cells": [
  {
   "cell_type": "code",
   "execution_count": 1,
   "id": "e11d1aec-3707-4986-9d2d-3cb2e0696be5",
   "metadata": {},
   "outputs": [],
   "source": [
    "from langchain_openai import ChatOpenAI, OpenAIEmbeddings\n",
    "from langgraph.prebuilt import create_react_agent\n",
    "from langchain.vectorstores import FAISS\n",
    "from langchain.document_loaders import PyPDFLoader\n",
    "from langchain_core.prompts import ChatPromptTemplate, MessagesPlaceholder\n",
    "from langchain_core.runnables import RunnablePassthrough\n",
    "from langchain.chains.combine_documents import create_stuff_documents_chain\n",
    "from langchain_core.messages import HumanMessage\n",
    "from langgraph.prebuilt import create_react_agent\n",
    "from typing import Dict\n",
    "from config import Settings\n",
    "import os\n",
    "\n",
    "from pydantic import BaseModel, Field\n",
    "import operator\n",
    "from typing import Annotated, List, Tuple\n",
    "from typing_extensions import TypedDict"
   ]
  },
  {
   "cell_type": "code",
   "execution_count": 2,
   "id": "e7a7e78f-3d10-4f15-86a3-6e109ae863ea",
   "metadata": {},
   "outputs": [],
   "source": [
    "api_key = Settings.api_key\n",
    "VECTOR_DIR = 'vectorize'\n",
    "embeddings = OpenAIEmbeddings(\n",
    "    model=\"text-embedding-ada-002\",\n",
    "    api_key=api_key)"
   ]
  },
  {
   "cell_type": "code",
   "execution_count": null,
   "id": "8a92a28d-d55c-46d4-93fa-cf3fe226cd44",
   "metadata": {},
   "outputs": [],
   "source": [
    "file_paths = [\"data/nvidia_10k_21.pdf\", \"data/lyft_10k_21.pdf\"]\n",
    "\n",
    "for file_path in file_paths:\n",
    "    loader = PyPDFLoader(file_path)\n",
    "    document = loader.load()\n",
    "    company_name = file_path.split(\"/\")[1].split(\"_\")[0]\n",
    "    print(\"Company: \", company_name)\n",
    "    save_dir = VECTOR_DIR + \"/\" + company_name\n",
    "    if not os.path.exists(save_dir):\n",
    "        os.makedirs(save_dir)\n",
    "    vector_store = FAISS.from_documents(document, embeddings)\n",
    "    vector_store.save_local(save_dir)"
   ]
  },
  {
   "cell_type": "code",
   "execution_count": 4,
   "id": "20f9d069-f775-4fed-85c2-6ed1ee35d491",
   "metadata": {},
   "outputs": [],
   "source": [
    "llm = ChatOpenAI(model=\"gpt-4o\", api_key=api_key)\n",
    "\n",
    "SYSTEM_TEMPLATE = \"\"\"\n",
    "    Answer the user's questions based on the below context. \n",
    "    If the context doesn't contain any relevant information to the questions, don't make someting up\n",
    "    and just reply information cannot be fount:\n",
    "    <context>\n",
    "    {context}\n",
    "    </context>\n",
    "    \"\"\""
   ]
  },
  {
   "cell_type": "code",
   "execution_count": 3,
   "id": "cd55e8b6-3b6c-4355-bc0c-68c76c422982",
   "metadata": {},
   "outputs": [],
   "source": [
    "def parse_retriever_input(params: Dict):\n",
    "    return params[\"messages\"][-1].content\n",
    "\n",
    "def contextualQA(earnings_question: str, company_name: str) -> str:\n",
    "\n",
    "    \"\"\"\n",
    "    Identifies the relevant context in the earning call transcripts to the user question\n",
    "\n",
    "    This tool searches in the earnings calls transcript documents and extract financial information\n",
    "    such as net income, REvenue, EBITDA and etc.\n",
    "\n",
    "    Parameters:\n",
    "    - earnings_question: The questions asked by the user\n",
    "    - the company for which we need to answer the question. Company names should always be lowercase\n",
    "\n",
    "    Returns:\n",
    "    - A string with the context that contain the answer to the earnings question.\n",
    "    \"\"\"\n",
    "    vector_store = FAISS.load_local(VECTOR_DIR + \"/\" + company_name, \n",
    "                                    embeddings, \n",
    "                                    allow_dangerous_deserialization=True)\n",
    "    retriever = vector_store.as_retriever()\n",
    "    qa_prompt = ChatPromptTemplate.from_messages(\n",
    "        [\n",
    "            (\"system\", SYSTEM_TEMPLATE),\n",
    "            MessagesPlaceholder(variable_name=\"messages\"),\n",
    "        ]\n",
    "    )\n",
    "    qa_chain = create_stuff_documents_chain(llm, qa_prompt)\n",
    "    retrieval_chain = RunnablePassthrough.assign(\n",
    "    context = parse_retriever_input | retriever).assign(answer=qa_chain)\n",
    "    response = retrieval_chain.invoke(\n",
    "        {\n",
    "            \"messages\": [HumanMessage(content=earnings_question)]\n",
    "        }\n",
    "    )\n",
    "    return response[\"answer\"]\n"
   ]
  },
  {
   "cell_type": "code",
   "execution_count": null,
   "id": "a36f083d-1b36-4b0f-9a12-9f17435daef5",
   "metadata": {},
   "outputs": [],
   "source": [
    "class PlanExecute(TypedDict):\n",
    "    input: str\n",
    "    plan: List[str]\n",
    "    past_steps: Annotated[List[Tuple], operator.add]\n",
    "    response: str\n",
    "\n",
    "\n",
    "\n",
    "class Plan(BaseModel):\n",
    "    \"\"\"Plan to follow in future\"\"\"\n",
    "\n",
    "    steps: List[str] = Field(\n",
    "        description=\"different steps to follow, should be in sorted order\"\n",
    "    )"
   ]
  }
 ],
 "metadata": {
  "kernelspec": {
   "display_name": "venv",
   "language": "python",
   "name": "venv"
  },
  "language_info": {
   "codemirror_mode": {
    "name": "ipython",
    "version": 3
   },
   "file_extension": ".py",
   "mimetype": "text/x-python",
   "name": "python",
   "nbconvert_exporter": "python",
   "pygments_lexer": "ipython3",
   "version": "3.11.8"
  }
 },
 "nbformat": 4,
 "nbformat_minor": 5
}
