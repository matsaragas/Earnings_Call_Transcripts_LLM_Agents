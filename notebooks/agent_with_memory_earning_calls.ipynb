{
 "cells": [
  {
   "cell_type": "markdown",
   "id": "8a46564e-fbb0-467d-a556-90cd3c6c3488",
   "metadata": {},
   "source": [
    "## Long-term and Short-term Memory for LLM Agents"
   ]
  },
  {
   "cell_type": "markdown",
   "id": "69972861-a2a7-4087-ab8f-9981f108cb8f",
   "metadata": {},
   "source": [
    "Memory in AI Applications referes to the ability to process, store, and effectively recall information from past interactions. With memory, our agents can learn from feedback and adapt to user's preferences. Here we explain the two types of memory that a real life AI app will need. \n",
    "\n",
    "1. Short-Term Memory: or threaded-scoped memory, can be recalled at any time from within a single conversational thread with a user. \n",
    "2. Long-Term Memory: it is shared across conversational threads. It can be recalled at any time a\n",
    "\n",
    "\n",
    "### Short-Term Memory\n",
    "Langgraph manages short-term memory as part of your agent's state. State is persisted to a database using a checkpointer so the thread can be resumed any time. Short-term memory updates when the graph is invoked or a step is completedm and the State is read at the start of each step. To give you more context, Langgraph has a built-in persistence layer, implemented through checkpointers. When you compile graph with a checkpointer, the checkpointer saves a `checkpoint` of the graph state at every super-step. Those checkpoints are saved to a `thread`, which can be accessed after graph execution. \n",
    "\n",
    "#### Threads\n",
    "A thread is a unique ID assigned to each checkpoint saved by a checkpointer. When invoking the graph with the checkpointer, we must specify a thread_id as part of the configurable portion of the config.\n",
    "\n",
    "#### Checkpoints\n",
    "Checkpoint is a snapshot of the graph state saved at each super-step and is represented by `StateSnapshot` object with the following key properties:\n",
    "\n",
    "* `config`: Config associated with this checkpoint\n",
    "* `metadata`: Metadata associated with this checkpoint\n",
    "* `values`: Values of the state channels at this point in time\n",
    "* `next`: A tuple of the nodenames to execute next in the graph\n",
    "* `tasks`: A tuple of `PregelTask` objects that contain information about next steps to be executed. \n",
    "\n",
    "### Long-Term Memory\n",
    "\n",
    "It is shared across conversational threads. It can be recalled at any time and in any thread. Memories are scoped to any custom namesapce, not just within a single thread ID. LangGraph provides stores to let you save the recall long-term memories. \n",
    "\n"
   ]
  },
  {
   "cell_type": "code",
   "execution_count": null,
   "id": "279d4160-fcb7-4af7-b34a-127fdf1ec72b",
   "metadata": {},
   "outputs": [],
   "source": [
    "from langchain_openai import ChatOpenAI, OpenAIEmbeddings\n",
    "from langgraph.prebuilt import create_react_agent\n",
    "from langchain.vectorstores import FAISS\n",
    "from langchain.document_loaders import PyPDFLoader\n",
    "from langchain_core.prompts import ChatPromptTemplate, MessagesPlaceholder\n",
    "from langchain_core.runnables import RunnablePassthrough, RunnableConfig\n",
    "from langchain.chains.combine_documents import create_stuff_documents_chain\n",
    "from langchain_core.messages import HumanMessage, get_buffer_string\n",
    "from langchain_core.vectorstores import InMemoryVectorStore \n",
    "from langgraph.graph import END, START, MessagesState, StateGraph\n",
    "from langgraph.prebuilt import create_react_agent, ToolNode\n",
    "from langgraph.checkpoint.memory import MemorySaver\n",
    "from typing import Dict\n",
    "from config import Settings\n",
    "import os\n",
    "import tiktoken\n",
    "import uuid\n",
    "from pydantic import BaseModel, Field\n",
    "import operator\n",
    "from typing import Annotated, List, Tuple, Union\n",
    "from typing_extensions import TypedDict"
   ]
  },
  {
   "cell_type": "markdown",
   "id": "15e4c8a5-1477-40d9-ba5a-d66e18f685be",
   "metadata": {},
   "source": [
    "### Define OpenAI Models"
   ]
  },
  {
   "cell_type": "code",
   "execution_count": 18,
   "id": "325e1fbf-ed04-4637-af0e-8cc7e857cb29",
   "metadata": {},
   "outputs": [],
   "source": [
    "api_key = Settings.api_key\n",
    "VECTOR_DIR = 'vectorize'\n",
    "embeddings = OpenAIEmbeddings(\n",
    "    model=\"text-embedding-ada-002\",\n",
    "    api_key=api_key)"
   ]
  },
  {
   "cell_type": "code",
   "execution_count": 19,
   "id": "0fbfb4b1-2756-4eb3-8751-c60a95825df0",
   "metadata": {},
   "outputs": [],
   "source": [
    "llm = ChatOpenAI(model=\"gpt-4o\", api_key=api_key)\n",
    "\n",
    "SYSTEM_TEMPLATE = \"\"\"\n",
    "    Answer the user's questions based on the below context. \n",
    "    If the context doesn't contain any relevant information to the questions, don't make someting up\n",
    "    and just reply information cannot be fount:\n",
    "    <context>\n",
    "    {context}\n",
    "    </context>\n",
    "    \"\"\""
   ]
  },
  {
   "cell_type": "markdown",
   "id": "b846ff77-97c9-4580-84d5-c5a7c2229338",
   "metadata": {},
   "source": [
    "### Define Tools\n",
    "\n",
    "We first define the vectorstore where we will be storing our memories. Memories will be stored as embeddings and later looked up based on the converstation context. We are using an in-memory vectorstore. "
   ]
  },
  {
   "cell_type": "code",
   "execution_count": 20,
   "id": "752de05d-b694-4f9a-8437-d0321938481b",
   "metadata": {},
   "outputs": [],
   "source": [
    "recall_vector_store = InMemoryVectorStore(embeddings)\n",
    "\n",
    "def get_user_id(config: RunnableConfig) -> str:\n",
    "\n",
    "    user_id = config[\"configurable\"].get(\"user_id\")\n",
    "    if user_id in None:\n",
    "        raise ValueError(\"User ID needs to be provided to save memory\")\n",
    "    return user_id\n",
    "\n",
    "@tool\n",
    "def save_recall_memory(memory: str, config: RunnableConfig) -> str:\n",
    "\n",
    "    \"Save memory to vectorstore for later semantic search retrieval.\"\n",
    "    user_id = get_user_id(config)\n",
    "    document = Document(page_content=memory, id=str(uuid.uuid4()), metadata={\"user_id\": user_id})\n",
    "    recall_vector_store.add_document([document])\n",
    "\n",
    "@tool\n",
    "def search_recall_memories(query: str, config: RunnableConfig) -> List[str]:\n",
    "    \"\"\"Search for relevant memories.\"\"\"\n",
    "\n",
    "    user_id = get_user_id(config)\n",
    "\n",
    "    def _filter_function(doc: Document) -> bool:\n",
    "        return doc.metadata.get(\"user_id\") == user_id\n",
    "\n",
    "    documents = recall_vector_store.similarity_search(query, k=3, filter=_filter_function)\n",
    "    return [document.page_content for document in documents]\n"
   ]
  },
  {
   "cell_type": "code",
   "execution_count": 21,
   "id": "c8744fe4-34ab-440e-94ef-32dc9bfc6b29",
   "metadata": {},
   "outputs": [],
   "source": [
    "def parse_retriever_input(params: Dict):\n",
    "    return params[\"messages\"][-1].content\n",
    "\n",
    "\n",
    "@tool\n",
    "def contextualQA(earnings_question: str, company_name: str) -> str:\n",
    "\n",
    "    \"\"\"\n",
    "    Identifies the relevant context in the earning call transcripts to the user question\n",
    "\n",
    "    This tool searches in the earnings calls transcript documents and extract financial information\n",
    "    such as net income, REvenue, EBITDA and etc.\n",
    "\n",
    "    Parameters:\n",
    "    - earnings_question: The questions asked by the user\n",
    "    - the company for which we need to answer the question. Company names should always be lowercase\n",
    "\n",
    "    Returns:\n",
    "    - A string with the context that contain the answer to the earnings question.\n",
    "    \"\"\"\n",
    "    vector_store = FAISS.load_local(VECTOR_DIR + \"/\" + company_name, \n",
    "                                    embeddings, \n",
    "                                    allow_dangerous_deserialization=True)\n",
    "    retriever = vector_store.as_retriever()\n",
    "    qa_prompt = ChatPromptTemplate.from_messages(\n",
    "        [\n",
    "            (\"system\", SYSTEM_TEMPLATE),\n",
    "            MessagesPlaceholder(variable_name=\"messages\"),\n",
    "        ]\n",
    "    )\n",
    "    qa_chain = create_stuff_documents_chain(llm, qa_prompt)\n",
    "    retrieval_chain = RunnablePassthrough.assign(\n",
    "    context = parse_retriever_input | retriever).assign(answer=qa_chain)\n",
    "    response = retrieval_chain.invoke(\n",
    "        {\n",
    "            \"messages\": [HumanMessage(content=earnings_question)]\n",
    "        }\n",
    "    )\n",
    "    return response[\"answer\"]\n"
   ]
  },
  {
   "cell_type": "code",
   "execution_count": 22,
   "id": "e4f69253-314b-42da-a553-585f1b52cd24",
   "metadata": {},
   "outputs": [],
   "source": [
    "tools = [save_recall_memory, search_recall_memories, contextualQA]"
   ]
  },
  {
   "cell_type": "code",
   "execution_count": 23,
   "id": "ab638068-97b7-47f7-a1b3-7dff59c374e6",
   "metadata": {},
   "outputs": [],
   "source": [
    "class State(MessagesState):\n",
    "    # Add memories that will be retrieved based on the conversation context\n",
    "    recall_memories: List[str]"
   ]
  },
  {
   "cell_type": "code",
   "execution_count": 24,
   "id": "1e9df36b-8997-4037-8470-9cb65a996aa2",
   "metadata": {},
   "outputs": [],
   "source": [
    "prompt = ChatPromptTemplate.from_messages([\n",
    "    (\"system\", \"You are a helpful assistant with advanced long-term memory\"\n",
    "     \"capabilities and ability to search in earnings call document and retrieve company financial fundamentals such as total revenue\"\n",
    "     \"expenses and costs, EBITDA and etc. Powered by stateless LLM, you must rely on external memory to store\"\n",
    "     \"information between conversations. Utilize the available memory tools to store and retrieve important details\"\n",
    "     \"that will help you better attend to user's needs and understand their context and understand their context. \\n\\n\"\n",
    "     \"Memory Usage Guidelines: \\n\"\n",
    "     \"1. Actively use memory tools (save_recall_memory, search_recall_memories) to build a comprehensive understanding of the user. \\n\"\n",
    "     \"2. Actively use memory tools (save_recall_memory, search_recall_memories) to store and retrieve  all the financial data users are interested in. \\n\"\n",
    "     \"3. Make informed suppositions and extrapolations based on stored memories \\n\\n\"\n",
    "     \"## Recall Memories \\n\"\n",
    "     \"Recall memories are contextually retrieved based on the current conversations: \\n{recall_memories}\\nn\"\n",
    "     \"Earning Calls Documents search and Retrieval Guidelines: \\n\\n\"\n",
    "     \"1. Actively use search tool contextualQA to search and identify financial information for a particular company requested by a user \\n\"\n",
    "     \"2. Actively use memory tools (save_recall_memory, search_recall_memories) to build a comprehensive understanding of the user request on earnings calls information\"\n",
    "    ),\n",
    "    (\"placeholder\", \"{messages}\")\n",
    "]\n",
    ")"
   ]
  },
  {
   "cell_type": "code",
   "execution_count": 27,
   "id": "3e3806b6-2335-4eba-a0dd-17d29f8a2fb9",
   "metadata": {},
   "outputs": [],
   "source": [
    "model_with_tools = llm.bind_tools(tools)\n",
    "tokenizer = tiktoken.encoding_for_model(\"gpt-4o\")"
   ]
  },
  {
   "cell_type": "code",
   "execution_count": 31,
   "id": "3a8b00da-6234-4dfb-a8dd-0a372bc2a88b",
   "metadata": {},
   "outputs": [],
   "source": [
    "def agent(state: State) -> State:\n",
    "    \"\"\"Process the current state and generate a response using the LLM.\n",
    "\n",
    "    Args:\n",
    "        state (schemas.State): The current state of the conversation.\n",
    "\n",
    "    Returns:\n",
    "        schemas.State: The updated state with the agent's response.\n",
    "    \"\"\"\n",
    "    bound = prompt | model_with_tools\n",
    "    recall_str = (\n",
    "        \"<recall_memory>\\n\" + \"\\n\".join(state[\"recall_memories\"]) + \"\\n</recall_memory>\"\n",
    "    )\n",
    "    prediction = bound.invoke(\n",
    "        {\n",
    "            \"messages\": state[\"messages\"],\n",
    "            \"recall_memories\": recall_str,\n",
    "        }\n",
    "    )\n",
    "    return {\n",
    "        \"messages\": [prediction],\n",
    "    }\n",
    "\n",
    "def load_memories(state: State, config: RunnableConfig) -> State:\n",
    "\n",
    "    \"\"\"\n",
    "    Load memories for the current conversation\n",
    "\n",
    "    Args:\n",
    "        state (schemas.State): The current state of the conversation\n",
    "        config (RunnableConfig): The runtime configuration for the agent\n",
    "\n",
    "    Returns:\n",
    "        State: The updated state with loaded memories.\n",
    "    \"\"\"\n",
    "    convo_str = get_buffer_string(state[\"messages\"])\n",
    "    convo_str = tokenizer.decode(tokenizer.encode(convo_str)[:2048])\n",
    "    recall_memories = search_recall_memories.invoke(convo_str, config)\n",
    "    return {\n",
    "        \"recall_memories\": recall_memories,\n",
    "    }\n",
    "\n",
    "def route_tools(state: State):\n",
    "    \"\"\"\n",
    "    Determine wether to use the tools or end the conversation based on the last message.\n",
    "\n",
    "    Args:\n",
    "       state (schemas.State): The current state of the conversation.\n",
    "\n",
    "    Returns:\n",
    "          Literal[\"tools\", \"__end__\"]: The next step in the graph.\n",
    "    \"\"\"\n",
    "    msg = state[\"messages\"][-1]\n",
    "    if msg.tool_calls:\n",
    "        return \"tools\"\n",
    "    return END\n",
    "\n",
    "    "
   ]
  },
  {
   "cell_type": "code",
   "execution_count": 34,
   "id": "aa2c2c4d-b38a-4b5a-b001-f7b51ca4fb02",
   "metadata": {},
   "outputs": [],
   "source": [
    "builder = StateGraph(State)\n",
    "builder.add_node(load_memories)\n",
    "builder.add_node(agent)\n",
    "builder.add_node(\"tools\", ToolNode(tools))\n",
    "\n",
    "builder.add_edge(START, \"load_memories\")\n",
    "builder.add_edge(\"load_memories\", \"agent\")\n",
    "builder.add_conditional_edges(\"agent\", route_tools, [\"tools\", END])\n",
    "builder.add_edge(\"tools\", \"agent\")\n",
    "memory = MemorySaver()\n",
    "graph = builder.compile(checkpointer=memory)"
   ]
  },
  {
   "cell_type": "code",
   "execution_count": 35,
   "id": "318fdf80-7891-4194-8e9c-39245b8eb802",
   "metadata": {},
   "outputs": [
    {
     "data": {
      "image/png": "[encoded data removed]",
      "text/plain": [
       "<IPython.core.display.Image object>"
      ]
     },
     "metadata": {},
     "output_type": "display_data"
    }
   ],
   "source": [
    "from IPython.display import Image, display\n",
    "\n",
    "display(Image(graph.get_graph().draw_mermaid_png()))"
   ]
  },
  {
   "cell_type": "code",
   "execution_count": 36,
   "id": "4e529cb7-85d1-4ce9-b4c0-2b8983f43a08",
   "metadata": {},
   "outputs": [],
   "source": [
    "def pretty_print_stream_chunk(chunk):\n",
    "    for node, updates in chunk.items():\n",
    "        print(f\"Update from node: {node}\")\n",
    "        if \"messages\" in updates:\n",
    "            updates[\"messages\"][-1].pretty_print()\n",
    "        else:\n",
    "            print(updates)\n",
    "\n",
    "        print(\"\\n\")"
   ]
  },
  {
   "cell_type": "code",
   "execution_count": null,
   "id": "6015fd65-1bf6-4854-84bd-7de11d2feb87",
   "metadata": {},
   "outputs": [],
   "source": [
    "# NOTE: we're specifying `user_id` to save memories for a given user\n",
    "config = {\"configurable\": {\"user_id\": \"1\", \"thread_id\": \"1\"}}\n",
    "\n",
    "for chunk in graph.stream({\"messages\": [(\"user\", \"my name is John\")]}, config=config):\n",
    "    pretty_print_stream_chunk(chunk)"
   ]
  }
 ],
 "metadata": {
  "kernelspec": {
   "display_name": "venv",
   "language": "python",
   "name": "venv"
  },
  "language_info": {
   "codemirror_mode": {
    "name": "ipython",
    "version": 3
   },
   "file_extension": ".py",
   "mimetype": "text/x-python",
   "name": "python",
   "nbconvert_exporter": "python",
   "pygments_lexer": "ipython3",
   "version": "3.11.8"
  }
 },
 "nbformat": 4,
 "nbformat_minor": 5
}
