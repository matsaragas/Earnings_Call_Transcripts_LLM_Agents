{
 "cells": [
  {
   "cell_type": "code",
   "execution_count": 1,
   "id": "dc234a62-a2cb-4f22-a52b-34ed482d8840",
   "metadata": {},
   "outputs": [],
   "source": [
    "from langchain_openai import ChatOpenAI, OpenAIEmbeddings"
   ]
  },
  {
   "cell_type": "code",
   "execution_count": 2,
   "id": "a9452cdd-de5e-4630-a045-cb3fb57d35e3",
   "metadata": {},
   "outputs": [],
   "source": [
    "from langgraph.prebuilt import create_react_agent"
   ]
  },
  {
   "cell_type": "code",
   "execution_count": 3,
   "id": "1552bf46-2d45-486d-903f-eb0b251ea073",
   "metadata": {},
   "outputs": [],
   "source": [
    "from langchain.vectorstores import FAISS"
   ]
  },
  {
   "cell_type": "code",
   "execution_count": 4,
   "id": "bc037a16-d477-4561-b0a0-80ea4b687837",
   "metadata": {},
   "outputs": [],
   "source": [
    "from langchain.document_loaders import PyPDFLoader"
   ]
  },
  {
   "cell_type": "code",
   "execution_count": 5,
   "id": "be231df1-67f7-4f3a-ac46-0539b06d10dc",
   "metadata": {},
   "outputs": [],
   "source": [
    "from langchain_core.prompts import ChatPromptTemplate, MessagesPlaceholder\n",
    "from langchain_core.runnables import RunnablePassthrough\n",
    "from langchain.chains.combine_documents import create_stuff_documents_chain\n",
    "from langchain_core.messages import HumanMessage"
   ]
  },
  {
   "cell_type": "code",
   "execution_count": 6,
   "id": "b510a8c7-822b-40d9-8971-04a594031a1e",
   "metadata": {},
   "outputs": [],
   "source": [
    "from langgraph.prebuilt import create_react_agent"
   ]
  },
  {
   "cell_type": "code",
   "execution_count": 7,
   "id": "f5f2c318-271e-4b07-8735-4a791ef31ce7",
   "metadata": {},
   "outputs": [],
   "source": [
    "from typing import Dict"
   ]
  },
  {
   "cell_type": "code",
   "execution_count": 8,
   "id": "9dd43913-5d76-41ad-803a-5aa66565e4fe",
   "metadata": {},
   "outputs": [],
   "source": [
    "from config import Settings"
   ]
  },
  {
   "cell_type": "code",
   "execution_count": 16,
   "id": "8e03d510-e28b-4bbd-bb30-b8636ede019e",
   "metadata": {},
   "outputs": [],
   "source": [
    "import os"
   ]
  },
  {
   "cell_type": "markdown",
   "id": "faa57d4b-a54a-4dba-873a-f6e21d68b658",
   "metadata": {},
   "source": [
    "### Create the Embeddings\n",
    "\n",
    "We create the embeddings from the earnings cal transcriptions"
   ]
  },
  {
   "cell_type": "code",
   "execution_count": 17,
   "id": "4f3eee83-8f48-4984-9532-1b939f80f614",
   "metadata": {},
   "outputs": [],
   "source": [
    "api_key = Settings.api_key\n",
    "VECTOR_DIR = 'vectorize'\n",
    "embeddings = OpenAIEmbeddings(\n",
    "    model=\"text-embedding-ada-002\",\n",
    "    api_key=api_key)"
   ]
  },
  {
   "cell_type": "code",
   "execution_count": 64,
   "id": "3c56a008-05a1-434c-bd3b-2748be567566",
   "metadata": {},
   "outputs": [
    {
     "name": "stdout",
     "output_type": "stream",
     "text": [
      "Company:  nvidia\n"
     ]
    }
   ],
   "source": [
    "file_paths = [\"data/nvidia_10k_21.pdf\", \"data/lyft_10k_21.pdf\"]\n",
    "\n",
    "for file_path in file_paths:\n",
    "    loader = PyPDFLoader(file_path)\n",
    "    document = loader.load()\n",
    "    company_name = file_path.split(\"/\")[1].split(\"_\")[0]\n",
    "    print(\"Company: \", company_name)\n",
    "    save_dir = VECTOR_DIR + \"/\" + company_name\n",
    "    if not os.path.exists(save_dir):\n",
    "        os.makedirs(save_dir)\n",
    "    vector_store = FAISS.from_documents(document, embeddings)\n",
    "    vector_store.save_local(save_dir)"
   ]
  },
  {
   "cell_type": "code",
   "execution_count": 70,
   "id": "94aea37c-655a-4acd-90cb-0859b0fe501d",
   "metadata": {},
   "outputs": [],
   "source": [
    "llm = ChatOpenAI(model=\"gpt-4o\", api_key=api_key)\n",
    "\n",
    "SYSTEM_TEMPLATE = \"\"\"\n",
    "    Answer the user's questions based on the below context. \n",
    "    If the context doesn't contain any relevant information to the questions, don't make someting up\n",
    "    and just reply information cannot be fount:\n",
    "    <context>\n",
    "    {context}\n",
    "    </context>\n",
    "    \"\"\""
   ]
  },
  {
   "cell_type": "code",
   "execution_count": 71,
   "id": "90106b67-966c-4ad8-aec6-7e702c71b462",
   "metadata": {},
   "outputs": [],
   "source": [
    "def parse_retriever_input(params: Dict):\n",
    "    return params[\"messages\"][-1].content\n",
    "\n",
    "def contextualQA(earnings_question: str, company_name: str) -> str:\n",
    "\n",
    "    \"\"\"\n",
    "    Identifies the relevant context in the earning call transcripts to the user question\n",
    "\n",
    "    This tool searches in the earnings calls transcript documents and extract financial information\n",
    "    such as net income, REvenue, EBITDA and etc.\n",
    "\n",
    "    Parameters:\n",
    "    - earnings_question: The questions asked by the user\n",
    "    - the company for which we need to answer the question. Company names should always be lowercase\n",
    "\n",
    "    Returns:\n",
    "    - A string with the context that contain the answer to the earnings question.\n",
    "    \"\"\"\n",
    "    vector_store = FAISS.load_local(VECTOR_DIR + \"/\" + company_name, \n",
    "                                    embeddings, \n",
    "                                    allow_dangerous_deserialization=True)\n",
    "    retriever = vector_store.as_retriever()\n",
    "    qa_prompt = ChatPromptTemplate.from_messages(\n",
    "        [\n",
    "            (\"system\", SYSTEM_TEMPLATE),\n",
    "            MessagesPlaceholder(variable_name=\"messages\"),\n",
    "        ]\n",
    "    )\n",
    "    qa_chain = create_stuff_documents_chain(llm, qa_prompt)\n",
    "    retrieval_chain = RunnablePassthrough.assign(\n",
    "    context = parse_retriever_input | retriever).assign(answer=qa_chain)\n",
    "    response = retrieval_chain.invoke(\n",
    "        {\n",
    "            \"messages\": [HumanMessage(content=earnings_question)]\n",
    "        }\n",
    "    )\n",
    "    return response[\"answer\"]\n"
   ]
  },
  {
   "cell_type": "code",
   "execution_count": 65,
   "id": "8f64d12f-2bef-4e79-943e-10f9cd796fdf",
   "metadata": {},
   "outputs": [
    {
     "name": "stdout",
     "output_type": "stream",
     "text": [
      "The total revenue for NVIDIA in fiscal year 2020 was $10.92 billion.\n"
     ]
    }
   ],
   "source": [
    "print(contextualQA(\"what is the total for nvidia in 2020?\", \"nvidia\"))"
   ]
  },
  {
   "cell_type": "code",
   "execution_count": 72,
   "id": "cbdb8c3a-c68e-47d0-98dc-683ccf23b1d1",
   "metadata": {},
   "outputs": [],
   "source": [
    "tools = [contextualQA]\n",
    "\n",
    "prompt = \"You are a helpful assistant capable to compare earning information between companies.\"\n",
    "agent_executor = create_react_agent(llm, tools, prompt=prompt)\n",
    "agent_executor.invoke({\"messages\": [(\"user\", \"what is the difference in the total revenue between Nvidia and Lyft in 2020?\")]})"
   ]
  },
  {
   "cell_type": "code",
   "execution_count": 73,
   "id": "a6d1aa78-68c8-4c4a-a9cf-a0e8283c627c",
   "metadata": {},
   "outputs": [],
   "source": [
    "import operator\n",
    "from typing import Annotated, List, Tuple\n",
    "from typing_extensions import TypedDict\n",
    "\n",
    "\n",
    "class PlanExecute(TypedDict):\n",
    "    input: str\n",
    "    plan: List[str]\n",
    "    past_steps: Annotated[List[Tuple], operator.add]\n",
    "    response: str"
   ]
  },
  {
   "cell_type": "code",
   "execution_count": 74,
   "id": "b8c55098-f579-48fd-ab22-55dbf8999924",
   "metadata": {},
   "outputs": [],
   "source": [
    "from pydantic import BaseModel, Field\n",
    "\n",
    "\n",
    "class Plan(BaseModel):\n",
    "    \"\"\"Plan to follow in future\"\"\"\n",
    "\n",
    "    steps: List[str] = Field(\n",
    "        description=\"different steps to follow, should be in sorted order\"\n",
    "    )"
   ]
  },
  {
   "cell_type": "code",
   "execution_count": 75,
   "id": "b3b44c36-6c61-4953-a207-c7adb30050ed",
   "metadata": {},
   "outputs": [],
   "source": [
    "from langchain_core.prompts import ChatPromptTemplate\n",
    "\n",
    "planner_prompt = ChatPromptTemplate.from_messages(\n",
    "    [\n",
    "        (\n",
    "            \"system\",\n",
    "            \"\"\"For the given objective, come up with a simple step by step plan. \\\n",
    "This plan should involve individual tasks, that if executed correctly will yield the correct answer. Do not add any superfluous steps. \\\n",
    "The result of the final step should be the final answer. Make sure that each step has all the information needed - do not skip steps.\"\"\",\n",
    "        ),\n",
    "        (\"placeholder\", \"{messages}\"),\n",
    "    ]\n",
    ")\n",
    "planner = planner_prompt | ChatOpenAI(model=\"gpt-4o\", temperature=0).with_structured_output(Plan)"
   ]
  },
  {
   "cell_type": "code",
   "execution_count": 35,
   "id": "88cddb9d-e1a2-492d-9539-0741fae6b42d",
   "metadata": {},
   "outputs": [
    {
     "data": {
      "text/plain": [
       "Plan(steps=['Find the total revenue for Uber in 2020.', 'Find the total revenue for Lyft in 2020.', \"Calculate the difference between Uber's total revenue and Lyft's total revenue.\"])"
      ]
     },
     "execution_count": 35,
     "metadata": {},
     "output_type": "execute_result"
    }
   ],
   "source": [
    "planner.invoke(\n",
    "    {\n",
    "        \"messages\": [\n",
    "            (\"user\", \"what was the difference in the total revenue between uber and lyft in 2020?\")\n",
    "        ]\n",
    "    }\n",
    ")"
   ]
  },
  {
   "cell_type": "code",
   "execution_count": 77,
   "id": "827a2bc7-1c3a-47d5-9f82-2a949dec714b",
   "metadata": {},
   "outputs": [],
   "source": [
    "from typing import Union\n",
    "\n",
    "\n",
    "class Response(BaseModel):\n",
    "    \"\"\"Response to user.\"\"\"\n",
    "\n",
    "    response: str\n",
    "\n",
    "\n",
    "class Act(BaseModel):\n",
    "    \"\"\"Action to perform.\"\"\"\n",
    "\n",
    "    action: Union[Response, Plan] = Field(\n",
    "        description=\"Action to perform. If you want to respond to user, use Response. \"\n",
    "        \"If you need to further use tools to get the answer, use Plan.\"\n",
    "    )\n",
    "\n",
    "\n",
    "replanner_prompt = ChatPromptTemplate.from_template(\n",
    "    \"\"\"For the given objective, come up with a simple step by step plan.\n",
    "    This plan should involve individual tasks, that if executed correctly will yield the correct answer. Do not add any superfluous steps. \\\n",
    "    The result of the final step should be the final answer. Make sure that each step has all the information needed - do not skip steps.\n",
    "    Your objective was this:\n",
    "    {input}\n",
    "    \n",
    "    Your original plan was this:\n",
    "    {plan}\n",
    "    \n",
    "    You have currently done the follow steps:\n",
    "    {past_steps}\n",
    "    \n",
    "    Update your plan accordingly. If no more steps are needed and you can return to the user, then respond with that. Otherwise, fill out the plan. Only add steps to the plan that still NEED to be done. Do not return previously done steps as part of the plan.\"\"\"\n",
    ")\n",
    "\n",
    "\n",
    "replanner = replanner_prompt | ChatOpenAI(model=\"gpt-4o\", temperature=0).with_structured_output(Act)"
   ]
  },
  {
   "cell_type": "code",
   "execution_count": 78,
   "id": "216a7e6e-5efb-4872-adcb-0abc2b838f71",
   "metadata": {},
   "outputs": [],
   "source": [
    "from typing import Literal\n",
    "from langgraph.graph import END\n",
    "\n",
    "\n",
    "async def execute_step(state: PlanExecute):\n",
    "    plan = state[\"plan\"]\n",
    "    plan_str = \"\\n\".join(f\"{i+1}. {step}\" for i, step in enumerate(plan))\n",
    "    task = plan[0]\n",
    "    task_formatted = f\"\"\"For the following plan:\n",
    "{plan_str}\\n\\nYou are tasked with executing step {1}, {task}.\"\"\"\n",
    "    agent_response = await agent_executor.ainvoke(\n",
    "        {\"messages\": [(\"user\", task_formatted)]}\n",
    "    )\n",
    "    return {\n",
    "        \"past_steps\": [(task, agent_response[\"messages\"][-1].content)],\n",
    "    }\n",
    "\n",
    "\n",
    "async def plan_step(state: PlanExecute):\n",
    "    plan = await planner.ainvoke({\"messages\": [(\"user\", state[\"input\"])]})\n",
    "    return {\"plan\": plan.steps}\n",
    "\n",
    "\n",
    "async def replan_step(state: PlanExecute):\n",
    "    output = await replanner.ainvoke(state)\n",
    "    if isinstance(output.action, Response):\n",
    "        return {\"response\": output.action.response}\n",
    "    else:\n",
    "        return {\"plan\": output.action.steps}\n",
    "\n",
    "\n",
    "def should_end(state: PlanExecute):\n",
    "    if \"response\" in state and state[\"response\"]:\n",
    "        return END\n",
    "    else:\n",
    "        return \"agent\""
   ]
  },
  {
   "cell_type": "code",
   "execution_count": 79,
   "id": "7698fe25-4e35-447a-b7ea-60888bc6ac40",
   "metadata": {},
   "outputs": [],
   "source": [
    "from langgraph.graph import StateGraph, START\n",
    "\n",
    "workflow = StateGraph(PlanExecute)\n",
    "\n",
    "# Add the plan node\n",
    "workflow.add_node(\"planner\", plan_step)\n",
    "\n",
    "# Add the execution step\n",
    "workflow.add_node(\"agent\", execute_step)\n",
    "\n",
    "# Add a replan node\n",
    "workflow.add_node(\"replan\", replan_step)\n",
    "\n",
    "workflow.add_edge(START, \"planner\")\n",
    "\n",
    "# From plan we go to agent\n",
    "workflow.add_edge(\"planner\", \"agent\")\n",
    "\n",
    "# From agent, we replan\n",
    "workflow.add_edge(\"agent\", \"replan\")\n",
    "\n",
    "workflow.add_conditional_edges(\n",
    "    \"replan\",\n",
    "    # Next, we pass in the function that will determine which node is called next.\n",
    "    should_end,\n",
    "    [\"agent\", END],\n",
    ")\n",
    "\n",
    "# Finally, we compile it!\n",
    "# This compiles it into a LangChain Runnable,\n",
    "# meaning you can use it as you would any other runnable\n",
    "app = workflow.compile()"
   ]
  },
  {
   "cell_type": "code",
   "execution_count": 80,
   "id": "79a694fb-8f2a-46a8-a9b3-f8cdd707fca5",
   "metadata": {},
   "outputs": [
    {
     "data": {
      "image/png": "[encoded data removed]",
      "text/plain": [
       "<IPython.core.display.Image object>"
      ]
     },
     "metadata": {},
     "output_type": "display_data"
    }
   ],
   "source": [
    "from IPython.display import Image, display\n",
    "\n",
    "display(Image(app.get_graph(xray=True).draw_mermaid_png()))"
   ]
  },
  {
   "cell_type": "code",
   "execution_count": 81,
   "id": "2a12400e-923e-4571-b875-a8cad9eaac0d",
   "metadata": {},
   "outputs": [
    {
     "name": "stdout",
     "output_type": "stream",
     "text": [
      "{'plan': [\"Find the total revenue for Nvidia in 2020. This information can be found in Nvidia's 2020 annual financial report or a reliable financial database.\", \"Find the total revenue for Lyft in 2020. This information can be found in Lyft's 2020 annual financial report or a reliable financial database.\", 'Subtract the total revenue of Lyft from the total revenue of Nvidia to find the difference.']}\n",
      "{'past_steps': [(\"Find the total revenue for Nvidia in 2020. This information can be found in Nvidia's 2020 annual financial report or a reliable financial database.\", 'The total revenue for Nvidia in 2020 was $10.918 billion.')]}\n",
      "{'plan': [\"Find the total revenue for Lyft in 2020. This information can be found in Lyft's 2020 annual financial report or a reliable financial database.\", 'Subtract the total revenue of Lyft from the total revenue of Nvidia to find the difference.']}\n",
      "{'past_steps': [(\"Find the total revenue for Lyft in 2020. This information can be found in Lyft's 2020 annual financial report or a reliable financial database.\", 'The total revenue for Lyft in 2020 was $2,364,681,000.')]}\n",
      "{'response': \"The remaining step to complete the objective is:\\n\\n1. **Calculate the Difference in Total Revenue:**\\n   - Subtract the total revenue of Lyft in 2020 ($2,364,681,000) from the total revenue of Nvidia in 2020 ($10.918 billion).\\n   - **Calculation:**\\n     - Convert Nvidia's revenue to the same unit as Lyft's for consistency: $10.918 billion = $10,918,000,000.\\n     - Difference = $10,918,000,000 - $2,364,681,000.\\n   - **Result:**\\n     - The difference in total revenue between Nvidia and Lyft in 2020 is $8,553,319,000.\\n\\nYou can now return this result to the user.\"}\n"
     ]
    }
   ],
   "source": [
    "config = {\"recursion_limit\": 20}\n",
    "inputs = {\"input\": \"what was the difference in the total revenue between Nvidia and Lyft in 2020?\"}\n",
    "async for event in app.astream(inputs, config=config):\n",
    "    for k, v in event.items():\n",
    "        if k != \"__end__\":\n",
    "            print(v)"
   ]
  },
  {
   "cell_type": "code",
   "execution_count": null,
   "id": "27156de2-64d0-4f61-b16f-b7f2240dfa80",
   "metadata": {},
   "outputs": [],
   "source": []
  }
 ],
 "metadata": {
  "kernelspec": {
   "display_name": "venv",
   "language": "python",
   "name": "venv"
  },
  "language_info": {
   "codemirror_mode": {
    "name": "ipython",
    "version": 3
   },
   "file_extension": ".py",
   "mimetype": "text/x-python",
   "name": "python",
   "nbconvert_exporter": "python",
   "pygments_lexer": "ipython3",
   "version": "3.11.8"
  }
 },
 "nbformat": 4,
 "nbformat_minor": 5
}
